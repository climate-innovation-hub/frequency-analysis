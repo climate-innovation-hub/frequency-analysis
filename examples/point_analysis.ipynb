{
 "cells": [
  {
   "cell_type": "code",
   "execution_count": null,
   "id": "1d90b7cc",
   "metadata": {
    "execution": {
     "iopub.execute_input": "2022-09-06T03:11:23.760802Z",
     "iopub.status.busy": "2022-09-06T03:11:23.760181Z",
     "iopub.status.idle": "2022-09-06T03:11:34.379890Z",
     "shell.execute_reply": "2022-09-06T03:11:34.377948Z"
    },
    "papermill": {
     "duration": 10.634895,
     "end_time": "2022-09-06T03:11:34.384645",
     "exception": false,
     "start_time": "2022-09-06T03:11:23.749750",
     "status": "completed"
    },
    "tags": []
   },
   "outputs": [],
   "source": [
    "import glob\n",
    "import os\n",
    "\n",
    "import pandas as pd\n",
    "import xarray as xr\n",
    "import numpy as np\n",
    "import matplotlib.pyplot as plt\n",
    "import cartopy\n",
    "import cartopy.crs as ccrs\n",
    "from xclim.indices.generic import select_resample_op\n",
    "from scipy.stats import genextreme as gev\n",
    "from pyextremes import EVA"
   ]
  },
  {
   "cell_type": "code",
   "execution_count": null,
   "id": "33c63337",
   "metadata": {
    "execution": {
     "iopub.execute_input": "2022-09-06T03:11:34.404380Z",
     "iopub.status.busy": "2022-09-06T03:11:34.402455Z",
     "iopub.status.idle": "2022-09-06T03:11:34.413638Z",
     "shell.execute_reply": "2022-09-06T03:11:34.412172Z"
    },
    "papermill": {
     "duration": 0.023819,
     "end_time": "2022-09-06T03:11:34.417153",
     "exception": false,
     "start_time": "2022-09-06T03:11:34.393334",
     "status": "completed"
    },
    "tags": [
     "parameters"
    ]
   },
   "outputs": [],
   "source": [
    "ari_file = ''\n",
    "ari_var = None\n",
    "param_file = ''\n",
    "data_files = ''\n",
    "data_var = None\n",
    "ari_plot = ''\n",
    "shape_plot = ''\n",
    "scale_plot = ''\n",
    "location_plot = ''\n",
    "\n",
    "#lat = -37.51\n",
    "#lon = 145.31\n",
    "#var = 'FFDI'\n",
    "#ari = 20\n",
    "#ari_file = '/g/data/wp00/users/dbi599/test_space/ffdi_test2.nc'\n",
    "#param_file = '/g/data/wp00/users/dbi599/test_space/param_test.nc'\n",
    "#data_files = '/g/data/wp00/QQSCALE/GFDL-ESM2M/FFDI/rcp45/2016-2045/ffdi.????.nc'\n",
    "#ari_plot = '/g/data/wp00/users/dbi599/test_space/ffdi_ARI_20yr_GFDL-ESM2M-QME_rcp45_2016-2045.png'\n",
    "#shape_plot = '/g/data/wp00/users/dbi599/test_space/ffdi_annual-daily-max_GEV-shape_GFDL-ESM2M-QME_rcp45_2016-2045.png'\n",
    "#scale_plot = '/g/data/wp00/users/dbi599/test_space/ffdi_annual-daily-max_GEV-scale_GFDL-ESM2M-QME_rcp45_2016-2045.png'\n",
    "#location_plot = '/g/data/wp00/users/dbi599/test_space/ffdi_annual-daily-max_GEV-location_GFDL-ESM2M-QME_rcp45_2016-2045.png'"
   ]
  },
  {
   "cell_type": "code",
   "execution_count": null,
   "id": "3449be82",
   "metadata": {
    "execution": {
     "iopub.execute_input": "2022-09-06T03:11:34.461491Z",
     "iopub.status.busy": "2022-09-06T03:11:34.460945Z",
     "iopub.status.idle": "2022-09-06T03:11:34.468318Z",
     "shell.execute_reply": "2022-09-06T03:11:34.466808Z"
    },
    "papermill": {
     "duration": 0.018869,
     "end_time": "2022-09-06T03:11:34.471208",
     "exception": false,
     "start_time": "2022-09-06T03:11:34.452339",
     "status": "completed"
    },
    "tags": []
   },
   "outputs": [],
   "source": [
    "assert 'lat' in locals(), \"Must provide a latitude (-p lat)\"\n",
    "assert 'lon' in locals(), \"Must provide a longitude (-p lon)\"\n",
    "assert 'ari' in locals(), \"Must provide an ARI (-p ari)\""
   ]
  },
  {
   "cell_type": "code",
   "execution_count": null,
   "id": "a7318916",
   "metadata": {},
   "outputs": [],
   "source": [
    "if data_files:\n",
    "    data_files = glob.glob(data_files)\n",
    "    data_files.sort()\n",
    "    ds_data = xr.open_mfdataset(data_files)"
   ]
  },
  {
   "cell_type": "markdown",
   "id": "12ae762f",
   "metadata": {
    "papermill": {
     "duration": 0.006738,
     "end_time": "2022-09-06T03:11:34.484501",
     "exception": false,
     "start_time": "2022-09-06T03:11:34.477763",
     "status": "completed"
    },
    "tags": []
   },
   "source": [
    "## Australia-wide analysis"
   ]
  },
  {
   "cell_type": "code",
   "execution_count": null,
   "id": "9b337c3b",
   "metadata": {
    "execution": {
     "iopub.execute_input": "2022-09-06T03:11:34.497694Z",
     "iopub.status.busy": "2022-09-06T03:11:34.497150Z",
     "iopub.status.idle": "2022-09-06T03:11:34.511723Z",
     "shell.execute_reply": "2022-09-06T03:11:34.510270Z"
    },
    "papermill": {
     "duration": 0.024605,
     "end_time": "2022-09-06T03:11:34.514768",
     "exception": false,
     "start_time": "2022-09-06T03:11:34.490163",
     "status": "completed"
    },
    "tags": []
   },
   "outputs": [],
   "source": [
    "def plot_aus(\n",
    "    da,\n",
    "    title,\n",
    "    outfile=None,\n",
    "    cmap=None,\n",
    "    levels=None,\n",
    "    extend=None,\n",
    "    clabel=None,\n",
    "    point=[],\n",
    "):\n",
    "    \"\"\"Plot Australia\n",
    "    \n",
    "    Args:\n",
    "      da (xarray DataArray)\n",
    "      selection (dict)\n",
    "    \n",
    "    \"\"\"\n",
    "    fig = plt.figure(figsize=[12,5])\n",
    "    ax = fig.add_subplot(111, projection=ccrs.PlateCarree())\n",
    "    da.plot(\n",
    "        ax=ax,\n",
    "        levels=levels,\n",
    "        extend=extend,\n",
    "        transform=ccrs.PlateCarree(),\n",
    "        cbar_kwargs={'label': clabel},\n",
    "        cmap=cmap,\n",
    "    )\n",
    "    ax.coastlines()\n",
    "    ax.add_feature(cartopy.feature.STATES)\n",
    "    plt.title(title)\n",
    "    if point:\n",
    "        lon, lat = point\n",
    "        ax.plot(lon, lat, 'o', color='cyan', markerfacecolor='none', zorder=5, transform=ccrs.PlateCarree())\n",
    "    if outfile:\n",
    "        plt.savefig(\n",
    "            outfile,\n",
    "            bbox_inches='tight',\n",
    "            dpi=300,\n",
    "            facecolor='white',\n",
    "        )\n",
    "    else:\n",
    "        plt.show()\n",
    "    plt.close()"
   ]
  },
  {
   "cell_type": "code",
   "execution_count": null,
   "id": "a3008a9d",
   "metadata": {
    "execution": {
     "iopub.execute_input": "2022-09-06T03:11:34.532397Z",
     "iopub.status.busy": "2022-09-06T03:11:34.531855Z",
     "iopub.status.idle": "2022-09-06T03:11:35.350280Z",
     "shell.execute_reply": "2022-09-06T03:11:35.348793Z"
    },
    "papermill": {
     "duration": 0.831287,
     "end_time": "2022-09-06T03:11:35.354752",
     "exception": false,
     "start_time": "2022-09-06T03:11:34.523465",
     "status": "completed"
    },
    "tags": []
   },
   "outputs": [],
   "source": [
    "if os.path.isfile(ari_file):\n",
    "    ds_ari = xr.open_dataset(ari_file)\n",
    "    da_ari = ds_ari[ari_var].sel({'return_period': ari})\n",
    "    plot_aus(\n",
    "        da_ari,\n",
    "        f'{ari} year ARI',\n",
    "        outfile=ari_plot,\n",
    "        cmap='jet',\n",
    "        levels=np.arange(0, 281, 20),\n",
    "        extend='max',\n",
    "        clabel='FFDI',\n",
    "        point=[lon, lat],\n",
    "    )\n",
    "    point_ari = da_ari.sel({'lat': lat, 'lon': lon}, method='nearest', drop=True).values\n",
    "    print(f'Point {ari} year ARI: {point_ari:.2f}')"
   ]
  },
  {
   "cell_type": "code",
   "execution_count": null,
   "id": "851b8499",
   "metadata": {},
   "outputs": [],
   "source": [
    "if data_files:\n",
    "    da_max = ds_data[data_var].max(dim='time', skipna=True)\n",
    "    da_max = da_max.where(da_max > 2)\n",
    "    plot_aus(\n",
    "        da_max,\n",
    "        f'Maximum FFDI over 30 years (i.e. empirical 30 year ARI)',\n",
    "        cmap='jet',\n",
    "        levels=np.arange(0, 281, 20),\n",
    "        extend='max',\n",
    "        clabel='FFDI',\n",
    "        point=[lon, lat],\n",
    "    )\n",
    "    point_max = da_max.sel({'lat': lat, 'lon': lon}, method='nearest', drop=True).values\n",
    "    print(f'Point maximum: {point_max:.2f}')"
   ]
  },
  {
   "cell_type": "code",
   "execution_count": null,
   "id": "be80e948",
   "metadata": {
    "execution": {
     "iopub.execute_input": "2022-09-06T03:11:35.374014Z",
     "iopub.status.busy": "2022-09-06T03:11:35.373453Z",
     "iopub.status.idle": "2022-09-06T03:11:35.384799Z",
     "shell.execute_reply": "2022-09-06T03:11:35.383489Z"
    },
    "papermill": {
     "duration": 0.022867,
     "end_time": "2022-09-06T03:11:35.387409",
     "exception": false,
     "start_time": "2022-09-06T03:11:35.364542",
     "status": "completed"
    },
    "tags": []
   },
   "outputs": [],
   "source": [
    "if os.path.isfile(param_file):\n",
    "    ds_ari_params = xr.open_dataset(param_file)\n",
    "    \n",
    "    da_shape = ds_ari_params[ari_var].sel({'dparams': 'c'})\n",
    "    plot_aus(\n",
    "        da_shape,\n",
    "        'GEV shape parameter',\n",
    "        outfile=shape_plot,\n",
    "        levels=np.arange(-0.5, 0.51, 0.1),\n",
    "        extend='both',\n",
    "        clabel='shape parameter',\n",
    "        point=[lon, lat],\n",
    "    )\n",
    "    point_shape = da_shape.sel({'lat': lat, 'lon': lon}, method='nearest', drop=True).values\n",
    "    print(f'Point shape parameter: {point_shape:.2f}')\n",
    "    \n",
    "    da_location = ds_ari_params[ari_var].sel({'dparams': 'loc'})\n",
    "    plot_aus(\n",
    "        da_location,\n",
    "        'GEV location parameter',\n",
    "        outfile=location_plot,\n",
    "        clabel='location parameter',\n",
    "        point=[lon, lat],\n",
    "    )\n",
    "    point_location = da_location.sel({'lat': lat, 'lon': lon}, method='nearest', drop=True).values\n",
    "    print(f'Point location parameter: {point_location:.2f}')\n",
    "    \n",
    "    da_scale = ds_ari_params[ari_var].sel({'dparams': 'scale'})\n",
    "    plot_aus(\n",
    "        da_scale,\n",
    "        'GEV scale parameter',\n",
    "        outfile=scale_plot,\n",
    "        clabel='scale parameter',\n",
    "        point=[lon, lat],\n",
    "    )\n",
    "    point_scale = da_scale.sel({'lat': lat, 'lon': lon}, method='nearest', drop=True).values\n",
    "    print(f'Point scale parameter: {point_scale:.2f}')"
   ]
  },
  {
   "cell_type": "markdown",
   "id": "aaf7320e",
   "metadata": {
    "papermill": {
     "duration": 0.007094,
     "end_time": "2022-09-06T03:11:35.402424",
     "exception": false,
     "start_time": "2022-09-06T03:11:35.395330",
     "status": "completed"
    },
    "tags": []
   },
   "source": [
    "## Point analysis"
   ]
  },
  {
   "cell_type": "code",
   "execution_count": null,
   "id": "e3093098",
   "metadata": {
    "execution": {
     "iopub.execute_input": "2022-09-06T03:11:35.420935Z",
     "iopub.status.busy": "2022-09-06T03:11:35.420391Z",
     "iopub.status.idle": "2022-09-06T03:11:35.437620Z",
     "shell.execute_reply": "2022-09-06T03:11:35.436393Z"
    },
    "papermill": {
     "duration": 0.029348,
     "end_time": "2022-09-06T03:11:35.440587",
     "exception": false,
     "start_time": "2022-09-06T03:11:35.411239",
     "status": "completed"
    },
    "tags": []
   },
   "outputs": [],
   "source": [
    "def plot_diagnostics(point):\n",
    "    \"\"\"Plot return period diagnostics for a given grid point\"\"\"\n",
    "    \n",
    "    lon, lat = point\n",
    "    data_point = ds_data[data_var].sel({'lat': lat, 'lon': lon}, method='nearest', drop=True)\n",
    "    str_times = [time.strftime('%Y-%m-%d') for time in data_point['time'].values]\n",
    "    data_series = pd.Series(data=data_point.values, index=pd.to_datetime(str_times))\n",
    "    model = EVA(data_series)\n",
    "    model.get_extremes(method='BM', block_size='365.2425D')\n",
    "#    print('# The most extreme days')\n",
    "#    print(model.extremes)\n",
    "    full_timeseries_fig, ax = model.plot_extremes()\n",
    "    model.fit_model(distribution='genextreme')    \n",
    "    summary = model.get_summary(\n",
    "        return_period=[5, 10, 20, 50],\n",
    "        alpha=0.95,\n",
    "        n_samples=1000\n",
    "    )\n",
    "    print(summary)\n",
    "\n",
    "    if os.path.isfile(ari_file):\n",
    "        ari_point = ds_ari[ari_var].sel({'lat': lat, 'lon': lon}, method='nearest')\n",
    "        return_period = ari_point.values[0]\n",
    "        print(f'Return period: {return_period:.2f}')\n",
    "\n",
    "    if os.path.isfile(param_file):\n",
    "        params_point = ds_ari_params[ari_var].sel({'lat': lat, 'lon': lon}, method='nearest')\n",
    "        gev_shape, gev_loc, gev_scale = params_point.values\n",
    "        print(f'Shape parameter: {gev_shape:.2f}')\n",
    "        print(f'Location parameter: {gev_loc:.2f}')\n",
    "        print(f'Scale parameter: {gev_scale:.2f}')\n",
    "\n",
    "    diagnostic_fig, ax = model.plot_diagnostic(alpha=0.95, return_period=[5, 10, 20, 50])\n",
    "    \n",
    "\n",
    "#def plot_pdf(place_name, xrange=[0, 120]):\n",
    "#    \"\"\"Plot the PDF and GEV for a given grid point.\"\"\"    \n",
    "\n",
    "#    lat, lon = place_latlons[place_name]\n",
    "#    ffdi_point = ds_ffdi['FFDI'].sel({'lat': lat, 'lon': lon}, method='nearest')\n",
    "#    ffdi_point_sub = select_resample_op(\n",
    "#        ffdi_point,\n",
    "#        op='max',\n",
    "#        freq='Y',\n",
    "#    )\n",
    "#    ari_point = ds_ffdi_ari['FFDI'].sel({'lat': lat, 'lon': lon}, method='nearest')\n",
    "#    params_point = ds_ffdi_ari_params['FFDI'].sel({'lat': lat, 'lon': lon}, method='nearest')\n",
    "#    gev_shape, gev_loc, gev_scale = params_point.values\n",
    "\n",
    "#    fig, ax = plt.subplots(figsize=[6, 4])\n",
    "#    gev_xvals = np.arange(xrange[0], xrange[1])\n",
    "#    ffdi_point_sub.plot.hist(bins=40, density=True, color='tab:green', alpha=0.5)\n",
    "#    gev_pdf = gev.pdf(gev_xvals, gev_shape, gev_loc, gev_scale)\n",
    "#    print(f'Shape parameter: {gev_shape:.2f}')\n",
    "#    print(f'Location parameter: {gev_loc:.2f}')\n",
    "#    print(f'Scale parameter: {gev_scale:.2f}')\n",
    "#    return_period = ari_point.values[0]\n",
    "#    print(f'Return period: {return_period:.2f}')\n",
    "#    plt.axvline(return_period, color='0.5', linestyle=':')\n",
    "#    plt.plot(gev_xvals, gev_pdf, color='tab:green', linewidth=4.0)\n",
    "#    plt.xlabel('FFDI')\n",
    "#    plt.ylabel('probability')\n",
    "#    plt.title(f'latitude: {lat}; longitude: {lon}')\n",
    "#    plt.show()\n",
    "#    plt.close()"
   ]
  },
  {
   "cell_type": "code",
   "execution_count": null,
   "id": "bda5535f",
   "metadata": {
    "execution": {
     "iopub.execute_input": "2022-09-06T03:11:35.461990Z",
     "iopub.status.busy": "2022-09-06T03:11:35.461491Z",
     "iopub.status.idle": "2022-09-06T03:13:10.820913Z",
     "shell.execute_reply": "2022-09-06T03:13:10.820057Z"
    },
    "papermill": {
     "duration": 95.375495,
     "end_time": "2022-09-06T03:13:10.826259",
     "exception": false,
     "start_time": "2022-09-06T03:11:35.450764",
     "status": "completed"
    },
    "tags": []
   },
   "outputs": [],
   "source": [
    "if data_files:\n",
    "    plot_diagnostics([lon, lat])"
   ]
  }
 ],
 "metadata": {
  "celltoolbar": "Tags",
  "kernelspec": {
   "display_name": "Python 3 (ipykernel)",
   "language": "python",
   "name": "python3"
  },
  "language_info": {
   "codemirror_mode": {
    "name": "ipython",
    "version": 3
   },
   "file_extension": ".py",
   "mimetype": "text/x-python",
   "name": "python",
   "nbconvert_exporter": "python",
   "pygments_lexer": "ipython3",
   "version": "3.10.6"
  },
  "papermill": {
   "default_parameters": {},
   "duration": 112.999478,
   "end_time": "2022-09-06T03:13:11.715631",
   "environment_variables": {},
   "exception": null,
   "input_path": "point_analysis.ipynb",
   "output_path": "hot_spot.ipynb",
   "parameters": {
    "ari": 20,
    "ari_file": "/g/data/wp00/QQSCALE/GFDL-ESM2M/FFDI/rcp85/2036-2065/GEV/FFDI_GFDL-ESM2M_rcp85_2036-2065_ARI20_ANN.nc",
    "ari_var": "FFDI",
    "data_files": "/g/data/wp00/QQSCALE/GFDL-ESM2M/FFDI/rcp85/2036-2065/ffdi.????.nc*",
    "data_var": "FFDI",
    "lat": -35.3,
    "lon": 145.7
   },
   "start_time": "2022-09-06T03:11:18.716153",
   "version": "2.3.4"
  }
 },
 "nbformat": 4,
 "nbformat_minor": 5
}
